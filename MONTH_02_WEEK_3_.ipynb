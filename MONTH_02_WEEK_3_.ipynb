{
  "nbformat": 4,
  "nbformat_minor": 0,
  "metadata": {
    "colab": {
      "provenance": [],
      "authorship_tag": "ABX9TyMnHltF1fLGuLDgwbUqFpEt",
      "include_colab_link": true
    },
    "kernelspec": {
      "name": "python3",
      "display_name": "Python 3"
    },
    "language_info": {
      "name": "python"
    }
  },
  "cells": [
    {
      "cell_type": "markdown",
      "metadata": {
        "id": "view-in-github",
        "colab_type": "text"
      },
      "source": [
        "<a href=\"https://colab.research.google.com/github/ghafoor545/Bytewise--ML--Track/blob/main/MONTH_02_WEEK_3_.ipynb\" target=\"_parent\"><img src=\"https://colab.research.google.com/assets/colab-badge.svg\" alt=\"Open In Colab\"/></a>"
      ]
    },
    {
      "cell_type": "markdown",
      "source": [
        "# ***`MONTH 2 WEEK 3`***"
      ],
      "metadata": {
        "id": "A1UwH0i_Py0_"
      }
    },
    {
      "cell_type": "markdown",
      "source": [
        "# **Part 1: Importing Libraries**\n",
        "Description\n",
        "\n",
        "In this section, we import the necessary libraries that will be used throughout the project. These include libraries for data manipulation (pandas), machine learning (scikit-learn), and visualization (matplotlib)."
      ],
      "metadata": {
        "id": "-seckzuIP9v4"
      }
    },
    {
      "cell_type": "code",
      "source": [
        "import pandas as pd\n",
        "from sklearn.model_selection import train_test_split\n",
        "from sklearn.linear_model import LinearRegression\n",
        "from sklearn.ensemble import RandomForestRegressor\n",
        "from sklearn.metrics import mean_squared_error, mean_absolute_error, r2_score\n",
        "import matplotlib.pyplot as plt\n"
      ],
      "metadata": {
        "id": "qW9jJLeTQELB"
      },
      "execution_count": 1,
      "outputs": []
    },
    {
      "cell_type": "markdown",
      "source": [
        "# **Part 2: Loading and Exploring the Data**\n",
        "Description\n",
        "\n",
        "This part involves loading the dataset from a CSV file, displaying the initial few rows to understand its structure, and checking for missing values."
      ],
      "metadata": {
        "id": "56pyG5kHQP83"
      }
    },
    {
      "cell_type": "code",
      "source": [
        "df1 = pd.read_csv('/content/pakwheels_used_car_data_v02.csv')\n",
        "print(df1.head(15))\n",
        "print(\"Initial NaN values per column:\")\n",
        "print(df1.isnull().sum())\n"
      ],
      "metadata": {
        "colab": {
          "base_uri": "https://localhost:8080/"
        },
        "id": "j8MQUKAqQVVe",
        "outputId": "81ac00d0-5dca-4ad8-ff14-8ba43822335f"
      },
      "execution_count": 2,
      "outputs": [
        {
          "output_type": "stream",
          "name": "stdout",
          "text": [
            "     addref        city  assembly       body      make    model    year  \\\n",
            "0   7943732    Peshawar       NaN      Sedan    Toyota  Corolla  2013.0   \n",
            "1   7730314      Lahore       NaN      Sedan     Honda     City  2000.0   \n",
            "2   7943737      Lahore       NaN      Sedan    Toyota    Yaris  2021.0   \n",
            "3   7943733      Lahore       NaN  Hatchback    Suzuki    Swift  2017.0   \n",
            "4   7923484      Lahore       NaN      Sedan     Honda    Civic  2017.0   \n",
            "5   7943736      Vehari  Imported      Sedan     Honda    Civic  2010.0   \n",
            "6   7764683   Islamabad       NaN  Hatchback    Suzuki    Swift  2019.0   \n",
            "7   7943739  Faisalabad       NaN      Sedan     Honda     City  2018.0   \n",
            "8   7894559      Lahore  Imported  Hatchback  Daihatsu     Move  2019.0   \n",
            "9   7943724      Lahore       NaN      Sedan     Honda     City  2014.0   \n",
            "10  7907725      Lahore  Imported  Hatchback  Daihatsu     Move  2019.0   \n",
            "11  7943741      Lahore       NaN  Hatchback    Suzuki   Mehran  2019.0   \n",
            "12  7943740     Sialkot       NaN      Sedan    Toyota    Yaris  2020.0   \n",
            "13  7894570      Lahore  Imported  Hatchback  Daihatsu     Move  2019.0   \n",
            "14  7929705      Lahore  Imported  Hatchback  Daihatsu     Move  2019.0   \n",
            "\n",
            "    engine transmission    fuel                color     registered  mileage  \\\n",
            "0   1300.0       Manual  Petrol      Silver Metallic         Lahore   145000   \n",
            "1   1300.0       Manual  Petrol                 Blue         Lahore   230000   \n",
            "2   1300.0       Manual  Petrol          Super White         Punjab    60500   \n",
            "3   1300.0       Manual  Petrol                 Grey      Islamabad    87000   \n",
            "4   1800.0    Automatic  Petrol                 Grey         Lahore    86000   \n",
            "5   1300.0    Automatic  Petrol      Albastar Silver         Punjab   157000   \n",
            "6   1300.0       Manual  Petrol                 Grey      Islamabad    45000   \n",
            "7   1300.0    Automatic  Petrol               Maroon         Lahore   187000   \n",
            "8    660.0    Automatic  Petrol      Fire Quartz Red  Un-Registered    22517   \n",
            "9   1300.0       Manual  Petrol  Crystal Black Pearl         Lahore   110000   \n",
            "10   660.0    Automatic  Petrol        Unique Orange  Un-Registered    77450   \n",
            "11   796.0       Manual  Petrol         Silky Silver         Lahore    69000   \n",
            "12  1300.0    Automatic  Petrol        Grey Graphite         Punjab    40000   \n",
            "13   660.0    Automatic  Petrol               Silver  Un-Registered    47499   \n",
            "14   660.0    Automatic  Petrol      Pearl White III  Un-Registered    69951   \n",
            "\n",
            "        price  \n",
            "0   2870000.0  \n",
            "1    995000.0  \n",
            "2   3585000.0  \n",
            "3   2250000.0  \n",
            "4   4850000.0  \n",
            "5   2850000.0  \n",
            "6   2675000.0  \n",
            "7   3450000.0  \n",
            "8   3850000.0  \n",
            "9   2585000.0  \n",
            "10  3650000.0  \n",
            "11  1365000.0  \n",
            "12  4300000.0  \n",
            "13  3850000.0  \n",
            "14  3550000.0  \n",
            "Initial NaN values per column:\n",
            "addref              0\n",
            "city                0\n",
            "assembly        53689\n",
            "body             8904\n",
            "make                0\n",
            "model               0\n",
            "year             4779\n",
            "engine              3\n",
            "transmission        0\n",
            "fuel              906\n",
            "color            1480\n",
            "registered          0\n",
            "mileage             0\n",
            "price             583\n",
            "dtype: int64\n"
          ]
        }
      ]
    },
    {
      "cell_type": "markdown",
      "source": [
        "# **Part 3: Data Cleaning and Preprocessing**\n",
        "Description\n",
        "\n",
        "This section handles data cleaning by removing rows with missing values and applies one-hot encoding to categorical features. Additionally, numerical columns are normalized."
      ],
      "metadata": {
        "id": "NOh0RGknQaAd"
      }
    },
    {
      "cell_type": "code",
      "source": [
        "df1_new = df1.dropna()\n",
        "print(df1_new.head())\n",
        "print(\"Checking if any NaN values exist per column:\")\n",
        "print(df1_new.isnull().sum())\n",
        "\n",
        "# Corrected categorical columns\n",
        "categorical_columns = ['assembly', 'body', 'city', 'color', 'fuel', 'make', 'model', 'registered', 'transmission']\n",
        "\n",
        "# One-hot encoding for categorical columns\n",
        "df1_one_hot = pd.get_dummies(df1_new, columns=categorical_columns)\n",
        "print(df1_one_hot.head())\n",
        "\n",
        "numerical_columns = df1_one_hot.select_dtypes(include=['int64', 'float64']).columns\n",
        "df1_normalized = df1_one_hot.copy()\n",
        "for col in numerical_columns:\n",
        "    if df1_one_hot[col].max() != df1_one_hot[col].min():\n",
        "        df1_normalized[col] = (df1_one_hot[col] - df1_one_hot[col].min()) / (df1_one_hot[col].max() - df1_one_hot[col].min())\n"
      ],
      "metadata": {
        "colab": {
          "base_uri": "https://localhost:8080/"
        },
        "id": "zkDaRC9GQhAG",
        "outputId": "e79e6179-3615-473b-ccc0-10bed9fc5e52"
      },
      "execution_count": 6,
      "outputs": [
        {
          "output_type": "stream",
          "name": "stdout",
          "text": [
            "     addref    city  assembly       body      make  model    year  engine  \\\n",
            "5   7943736  Vehari  Imported      Sedan     Honda  Civic  2010.0  1300.0   \n",
            "8   7894559  Lahore  Imported  Hatchback  Daihatsu   Move  2019.0   660.0   \n",
            "10  7907725  Lahore  Imported  Hatchback  Daihatsu   Move  2019.0   660.0   \n",
            "13  7894570  Lahore  Imported  Hatchback  Daihatsu   Move  2019.0   660.0   \n",
            "14  7929705  Lahore  Imported  Hatchback  Daihatsu   Move  2019.0   660.0   \n",
            "\n",
            "   transmission    fuel            color     registered  mileage      price  \n",
            "5     Automatic  Petrol  Albastar Silver         Punjab   157000  2850000.0  \n",
            "8     Automatic  Petrol  Fire Quartz Red  Un-Registered    22517  3850000.0  \n",
            "10    Automatic  Petrol    Unique Orange  Un-Registered    77450  3650000.0  \n",
            "13    Automatic  Petrol           Silver  Un-Registered    47499  3850000.0  \n",
            "14    Automatic  Petrol  Pearl White III  Un-Registered    69951  3550000.0  \n",
            "Checking if any NaN values exist per column:\n",
            "addref          0\n",
            "city            0\n",
            "assembly        0\n",
            "body            0\n",
            "make            0\n",
            "model           0\n",
            "year            0\n",
            "engine          0\n",
            "transmission    0\n",
            "fuel            0\n",
            "color           0\n",
            "registered      0\n",
            "mileage         0\n",
            "price           0\n",
            "dtype: int64\n",
            "     addref    year  engine  mileage      price  assembly_Imported  \\\n",
            "5   7943736  2010.0  1300.0   157000  2850000.0               True   \n",
            "8   7894559  2019.0   660.0    22517  3850000.0               True   \n",
            "10  7907725  2019.0   660.0    77450  3650000.0               True   \n",
            "13  7894570  2019.0   660.0    47499  3850000.0               True   \n",
            "14  7929705  2019.0   660.0    69951  3550000.0               True   \n",
            "\n",
            "    body_Compact SUV  body_Compact hatchback  body_Compact sedan  \\\n",
            "5              False                   False               False   \n",
            "8              False                   False               False   \n",
            "10             False                   False               False   \n",
            "13             False                   False               False   \n",
            "14             False                   False               False   \n",
            "\n",
            "    body_Convertible  ...  registered_Sindh  registered_Sukkur  \\\n",
            "5              False  ...             False              False   \n",
            "8              False  ...             False              False   \n",
            "10             False  ...             False              False   \n",
            "13             False  ...             False              False   \n",
            "14             False  ...             False              False   \n",
            "\n",
            "    registered_Swat  registered_Toba Tek Singh  registered_Un-Registered  \\\n",
            "5             False                      False                     False   \n",
            "8             False                      False                      True   \n",
            "10            False                      False                      True   \n",
            "13            False                      False                      True   \n",
            "14            False                      False                      True   \n",
            "\n",
            "    registered_Vehari  registered_Wah cantt  registered_Wazirabad  \\\n",
            "5               False                 False                 False   \n",
            "8               False                 False                 False   \n",
            "10              False                 False                 False   \n",
            "13              False                 False                 False   \n",
            "14              False                 False                 False   \n",
            "\n",
            "    transmission_Automatic  transmission_Manual  \n",
            "5                     True                False  \n",
            "8                     True                False  \n",
            "10                    True                False  \n",
            "13                    True                False  \n",
            "14                    True                False  \n",
            "\n",
            "[5 rows x 923 columns]\n"
          ]
        }
      ]
    },
    {
      "cell_type": "markdown",
      "source": [
        "# **Part 4: Splitting Data for Training and Testing**\n",
        "Description\n",
        "\n",
        "The dataset is split into training and testing sets, with features (X) and target variable (y) separated. This helps in training the models and evaluating their performance on unseen data.\n",
        "\n"
      ],
      "metadata": {
        "id": "Rl8HquNSRI0r"
      }
    },
    {
      "cell_type": "code",
      "source": [
        "X = df1_normalized.drop('price', axis=1)\n",
        "y = df1_normalized['price']\n",
        "\n",
        "X_train, X_test, y_train, y_test = train_test_split(X, y, test_size=0.2, random_state=42)\n"
      ],
      "metadata": {
        "id": "ioRNJwV-RLOE"
      },
      "execution_count": 7,
      "outputs": []
    },
    {
      "cell_type": "markdown",
      "source": [
        "# **Part 5: Applying Linear Regression**\n",
        "Description\n",
        "\n",
        "A Linear Regression model is created and trained on the training data. Predictions are made on the test set, and various performance metrics are calculated."
      ],
      "metadata": {
        "id": "3EeDpniGRQfQ"
      }
    },
    {
      "cell_type": "code",
      "source": [
        "lr = LinearRegression()\n",
        "lr.fit(X_train, y_train)\n",
        "\n",
        "y_pred_lr = lr.predict(X_test)\n",
        "\n",
        "mse_lr = mean_squared_error(y_test, y_pred_lr)\n",
        "mae_lr = mean_absolute_error(y_test, y_pred_lr)\n",
        "r2_lr = r2_score(y_test, y_pred_lr)\n",
        "\n",
        "print(\"Linear Regression Results:\")\n",
        "print(\"MSE:\", mse_lr)\n",
        "print(\"MAE:\", mae_lr)\n",
        "print(\"R2 Score:\", r2_lr)\n"
      ],
      "metadata": {
        "colab": {
          "base_uri": "https://localhost:8080/"
        },
        "id": "fAyAC78TRSLJ",
        "outputId": "3962c138-bde5-4d95-c68c-e3fe9291a37e"
      },
      "execution_count": 8,
      "outputs": [
        {
          "output_type": "stream",
          "name": "stdout",
          "text": [
            "Linear Regression Results:\n",
            "MSE: 1.0203169769861804e+16\n",
            "MAE: 8264657.916118305\n",
            "R2 Score: -4.101202818196333e+18\n"
          ]
        }
      ]
    },
    {
      "cell_type": "markdown",
      "source": [
        "# **Part 6: Applying Random Forest Regression**\n",
        "Description\n",
        "\n",
        "A Random Forest Regressor is created and trained on the training data. Similar to Linear Regression, predictions are made on the test set, and performance metrics are calculated."
      ],
      "metadata": {
        "id": "boYo1Od3RanR"
      }
    },
    {
      "cell_type": "code",
      "source": [
        "rf = RandomForestRegressor(n_estimators=100, random_state=42)\n",
        "rf.fit(X_train, y_train)\n",
        "\n",
        "y_pred_rf = rf.predict(X_test)\n",
        "\n",
        "mse_rf = mean_squared_error(y_test, y_pred_rf)\n",
        "mae_rf = mean_absolute_error(y_test, y_pred_rf)\n",
        "r2_rf = r2_score(y_test, y_pred_rf)\n",
        "\n",
        "print(\"Random Forest Regression Results:\")\n",
        "print(\"MSE:\", mse_rf)\n",
        "print(\"MAE:\", mae_rf)\n",
        "print(\"R2 Score:\", r2_rf)\n"
      ],
      "metadata": {
        "colab": {
          "base_uri": "https://localhost:8080/"
        },
        "id": "scWpWyQ3RcND",
        "outputId": "a4c37ab9-c617-4529-8ff5-d13508e7dec7"
      },
      "execution_count": 9,
      "outputs": [
        {
          "output_type": "stream",
          "name": "stdout",
          "text": [
            "Random Forest Regression Results:\n",
            "MSE: 0.00014172546945747904\n",
            "MAE: 0.0036088203952629318\n",
            "R2 Score: 0.9430329095899103\n"
          ]
        }
      ]
    },
    {
      "cell_type": "markdown",
      "source": [
        "# **Part 7: Results Visualization**\n",
        "Description\n",
        "\n",
        "This part visualizes the performance of the two models using bar charts for comparison. It compares Mean Squared Error (MSE), Mean Absolute Error (MAE), and R2 Score for both models."
      ],
      "metadata": {
        "id": "VnN8uICGRfmK"
      }
    },
    {
      "cell_type": "code",
      "source": [
        "results = pd.DataFrame({\n",
        "    'Model': ['Linear Regression', 'Random Forest Regression'],\n",
        "    'MSE': [mse_lr, mse_rf],\n",
        "    'MAE': [mae_lr, mae_rf],\n",
        "    'R2 Score': [r2_lr, r2_rf]\n",
        "})\n",
        "\n",
        "fig, ax = plt.subplots(1, 3, figsize=(15, 5))\n",
        "results.plot(kind='bar', ax=ax[0])\n",
        "ax[0].set_title('Mean Squared Error')\n",
        "ax[0].set_xticklabels(results['Model'], rotation=0)\n",
        "\n",
        "results.plot(kind='bar', ax=ax[1])\n",
        "ax[1].set_title('Mean Absolute Error')\n",
        "ax[1].set_xticklabels(results['Model'], rotation=0)\n",
        "\n",
        "results.plot(kind='bar', ax=ax[2])\n",
        "ax[2].set_title('R2 Score')\n",
        "ax[2].set_xticklabels(results['Model'], rotation=0)\n",
        "\n",
        "plt.tight_layout()\n",
        "plt.show()\n"
      ],
      "metadata": {
        "colab": {
          "base_uri": "https://localhost:8080/",
          "height": 280
        },
        "id": "fJZeVPnMRlAI",
        "outputId": "cd3c225c-2022-4ec6-b27c-ba76f90118ee"
      },
      "execution_count": 10,
      "outputs": [
        {
          "output_type": "display_data",
          "data": {
            "text/plain": [
              "<Figure size 1500x500 with 3 Axes>"
            ],
            "image/png": "[encoded data removed]"
          },
          "metadata": {}
        }
      ]
    }
  ]
}